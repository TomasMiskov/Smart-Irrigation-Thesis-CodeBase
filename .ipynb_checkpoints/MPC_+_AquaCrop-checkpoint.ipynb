{
 "cells": [
  {
   "cell_type": "code",
   "execution_count": 12,
   "id": "76771c7d",
   "metadata": {},
   "outputs": [],
   "source": [
    "# Ignore unnecessary padas warnings\n",
    "import warnings\n",
    "warnings.simplefilter(action = 'ignore', category = FutureWarning)\n",
    "\n",
    "# API\n",
    "import requests\n",
    "import json\n",
    "\n",
    "# AquaCrop\n",
    "from aquacrop import AquaCropModel, Soil, Crop, InitialWaterContent, IrrigationManagement\n",
    "\n",
    "# Pyomo\n",
    "import pyomo.environ as pe\n",
    "import pyomo.opt as po\n",
    "\n",
    "# Do-MPC\n",
    "import do_mpc as mpc\n",
    "\n",
    "# General\n",
    "import pandas as pd\n",
    "import matplotlib.pyplot as plt\n",
    "import numpy as np\n",
    "from datetime import datetime"
   ]
  },
  {
   "cell_type": "code",
   "execution_count": 28,
   "id": "c41a7255",
   "metadata": {},
   "outputs": [],
   "source": [
    "# Load and preprocess data\n",
    "refEt = pd.read_csv(\"./Data/fourierEt.csv\")\n",
    "weather = pd.read_csv(\"./Data/weather.csv\")\n",
    "weather[\"refEt\"] = refEt\n",
    "weather[\"date\"] = pd.to_datetime(weather[\"date\"], format= \"%Y-%m-%d\")\n",
    "\n",
    "# Get data for a given year + format to AquaCrop specifications\n",
    "def getYear(weather, year):\n",
    "    weather = weather.loc[pd.DatetimeIndex(weather.date).year == year]\n",
    "    \n",
    "    weather = weather.loc[:, (\"temp_min\", \"temp_max\", \"rain\", \"refEt\", \"date\")]\n",
    "    weather.columns = [\"MinTemp\", \"MaxTemp\", \"Precipitation\", \"ReferenceET\", \"Date\"]\n",
    "    weather.reset_index(drop = True, inplace = True)\n",
    "    \n",
    "    return weather\n",
    "\n",
    "weather = getYear(weather, 2011)\n",
    "\n",
    "#Get learned coefficients for the state space model\n",
    "c = np.array(pd.read_csv(\"./Data/c.csv\")).flatten(); c = list(c)"
   ]
  },
  {
   "cell_type": "code",
   "execution_count": 44,
   "id": "d8feb8ea",
   "metadata": {},
   "outputs": [],
   "source": [
    "# Define model parameters\n",
    "soil = Soil(soil_type = 'Loam')\n",
    "crop = Crop('Tomato', planting_date = '08/01', harvest_date = '11/18')\n",
    "init_water = InitialWaterContent(value = ['FC'])\n",
    "weather_df = weather\n",
    "sim_start_time = \"2011/08/01\"\n",
    "sim_end_time = \"2011/11/18\"\n",
    "\n",
    "# Define Irrigation Management method\n",
    "# We irrigate whenever our RMPC decides to do so\n",
    "irrMng = IrrigationManagement(irrigation_method = 5, )\n",
    "\n",
    "# Build a field model\n",
    "model = AquaCropModel(sim_start_time = sim_start_time,\n",
    "                      sim_end_time = sim_end_time,\n",
    "                      weather_df = weather_df,\n",
    "                      soil = soil,\n",
    "                      crop = crop,\n",
    "                      initial_water_content = init_water, \n",
    "                      irrigation_management = irrMng)"
   ]
  },
  {
   "cell_type": "code",
   "execution_count": 16,
   "id": "167cbd08",
   "metadata": {},
   "outputs": [
    {
     "data": {
      "text/plain": [
       "aquacrop.core.AquaCropModel"
      ]
     },
     "execution_count": 16,
     "metadata": {},
     "output_type": "execute_result"
    }
   ],
   "source": [
    "type(model)"
   ]
  },
  {
   "cell_type": "code",
   "execution_count": 37,
   "id": "bd65dcc0",
   "metadata": {},
   "outputs": [],
   "source": [
    "def preditFutureRZSMD(RZSMD_0, E_forecast, P_forecast, I, c, n_steps):\n",
    "    vec_D = [RZSMD_0]\n",
    "    for t in range(n_steps):\n",
    "        D = c[0] * vec_D[t] + c[1] * E_forecast[t] + c[2] * P_forecast[t] + c[3] * I[t]\n",
    "        vec_D.append(D)\n",
    "        \n",
    "    return vec_D"
   ]
  },
  {
   "cell_type": "code",
   "execution_count": 40,
   "id": "a09b3709",
   "metadata": {},
   "outputs": [
    {
     "data": {
      "text/plain": [
       "[0,\n",
       " -0.09858138835237751,\n",
       " -0.6019053677588122,\n",
       " 0.8114775332432298,\n",
       " 0.955439791216432,\n",
       " 0.025201100566611623]"
      ]
     },
     "execution_count": 40,
     "metadata": {},
     "output_type": "execute_result"
    }
   ],
   "source": [
    "E_forecast = np.array(weather.ReferenceET[:5])\n",
    "P_forecast = np.array(weather.Precipitation[:5])\n",
    "I = np.array([1.5, 0, 5.7, 3.2, 0])\n",
    "# c = np.array(c.c)\n",
    "n_steps = 5\n",
    "\n",
    "preditFutureRZSMD(0, E_forecast, P_forecast, I, c, n_steps)"
   ]
  },
  {
   "cell_type": "markdown",
   "id": "326f58d0",
   "metadata": {},
   "source": [
    "### Do-MPC Model\n",
    "Our state space model is a discrete linear time series defined as $D^+ = c_1D + c_2E + c_3P +c_4I$. This can be translated into the following notation: $x_{t+1} = Ax_t + Bu_t + \\omega$ where $x_{t+1} = D^+, \\; x_t = D, \\; u_t = I, \\; A = c_1, \\; B = c_4, \\; \\omega = c_2E + c_3P$. This is the formulation we will use to define our state space model below.\n",
    "\n",
    "\n",
    "*potentially useful paper for [irrigation MPC](https://d1wqtxts1xzle7.cloudfront.net/33508836/2013_Khusro_Irrigation-libre.pdf?1397966952=&response-content-disposition=inline%3B+filename%3DModel_Predictive_Control_for_Real_Time_I.pdf&Expires=1675716135&Signature=YYRtLrhl32Kr~1u06GPDeolbPc~evOCQb9cDMXzH-MnhoA-IxQGi9Mjx330i~944~yw6ETkZif7B93X30~NXZ84lJBilrBxQfn45Dd4Ae0ouVFPXvnh4H4cuh0cKLLKlTj6kUwxjc1JEpVOhsUnMyDJHAcIaeIv4YZS1kGPxhvJJ6zS1TYCsOfhFSkXr536WQaEuOec13uf96jozw5YmCGGrpWNibh5M49R2T5WvRD4TD-gk32IicSKDPEZF7sxPU1tKSHTtBIWyT1vkl~kHUioqbKhASAkNiwU4UYU4N6IY6HKbZZI5RU5P7zLr6mA~G2WEiiiofXaAElIYqsvRcg__&Key-Pair-Id=APKAJLOHF5GGSLRBV4ZA)"
   ]
  },
  {
   "cell_type": "code",
   "execution_count": null,
   "id": "0f447570",
   "metadata": {},
   "outputs": [],
   "source": [
    "# # Model init\n",
    "# model = mpc.model.Model('discrete')\n",
    "\n",
    "# # Model vars\n",
    "# _x = model.set_variable('_x', 'RZSMD', (1, 1))\n",
    "# _u = model.set_variable('_u', 'irrigation', (1, 1))\n",
    "# _tvp = model.set_variable('_tvp', 'et_and_rain', (2, 1))\n",
    "\n",
    "# # Model params\n",
    "# A = c[0]\n",
    "# B = c[-1]\n",
    "# C = c[1:-1]\n",
    "\n",
    "# # Discrete linear time updating function of a from: x(t+1) = Ax(t) + Bu(t) + Cz(t)\n",
    "# dx = A@_x + B@_u + C@_tvp\n",
    "# model.set_rhs('x', dx)\n",
    "\n",
    "# # Objective\n",
    "# model.set_expression('objective', expr = sum1(_x**2) / 2 + sum1(_u**2) / 2)\n",
    "\n",
    "# # Create conceptual model\n",
    "# model.setup()"
   ]
  },
  {
   "cell_type": "markdown",
   "id": "8ac5aafe",
   "metadata": {},
   "source": [
    "### MPC with Pyomo and AquaCrop\n",
    "- timesteps: days\n",
    "- control horizon: N (5 days - because we have a 5 day weather forecast)\n",
    "- control variable: irrigation (I)\n",
    "- time-varying input variables: precipitation forecast (P), evapotranspiration forecast (E), current root zone depletion (D)\n",
    "\n",
    "Main loop that integrates Pyomo (+ Gurobi) and AquaCrop:\n",
    "- get weather and evapotranspiration forecast for next 5 days\n",
    "- get the latest root zone depletion from AquaCrop after running it from day 0 to day t (today)\n",
    "- initialize the Pyomo model  with today's root zone depletion and forecasts\n",
    "- solve to near optimality\n",
    "- get the optimal irrigation amount\n",
    "- apply the irrigation to aquacrop\n",
    "- \"wait\" for the end of the day\n",
    "- observe the actual evapotranspiration, temperature, and precipitation\n",
    "- update the weather data in AquaCrop\n",
    "- re-run the model with observed data and applied irrigation\n",
    "- repeat"
   ]
  },
  {
   "cell_type": "code",
   "execution_count": 8,
   "id": "f28c21ac",
   "metadata": {},
   "outputs": [
    {
     "name": "stdout",
     "output_type": "stream",
     "text": [
      "ssc : Size=0, Index=ssc_index, Active=True\n",
      "    Not constructed\n"
     ]
    },
    {
     "ename": "ValueError",
     "evalue": "Error retrieving component D[1]: The component has not been constructed.",
     "output_type": "error",
     "traceback": [
      "\u001b[1;31m---------------------------------------------------------------------------\u001b[0m",
      "\u001b[1;31mValueError\u001b[0m                                Traceback (most recent call last)",
      "Cell \u001b[1;32mIn [8], line 40\u001b[0m\n\u001b[0;32m     38\u001b[0m model\u001b[38;5;241m.\u001b[39mDcons \u001b[38;5;241m=\u001b[39m ConstraintList()\n\u001b[0;32m     39\u001b[0m \u001b[38;5;28;01mfor\u001b[39;00m i \u001b[38;5;129;01min\u001b[39;00m model\u001b[38;5;241m.\u001b[39mdays:\n\u001b[1;32m---> 40\u001b[0m     model\u001b[38;5;241m.\u001b[39mDcons\u001b[38;5;241m.\u001b[39madd(\u001b[43mmodel\u001b[49m\u001b[38;5;241;43m.\u001b[39;49m\u001b[43mD\u001b[49m\u001b[43m[\u001b[49m\u001b[43mi\u001b[49m\u001b[43m]\u001b[49m \u001b[38;5;241m<\u001b[39m\u001b[38;5;241m=\u001b[39m model\u001b[38;5;241m.\u001b[39mtargetRZSMD)\n\u001b[0;32m     42\u001b[0m \u001b[38;5;66;03m# Min-Max Irrigation Amount\u001b[39;00m\n\u001b[0;32m     46\u001b[0m \u001b[38;5;28;01mdef\u001b[39;00m \u001b[38;5;21mconstraint_rule\u001b[39m(model):\n",
      "File \u001b[1;32m~\\miniconda3\\lib\\site-packages\\pyomo\\core\\base\\var.py:932\u001b[0m, in \u001b[0;36mIndexedVar.__getitem__\u001b[1;34m(self, args)\u001b[0m\n\u001b[0;32m    930\u001b[0m \u001b[38;5;28;01mdef\u001b[39;00m \u001b[38;5;21m__getitem__\u001b[39m(\u001b[38;5;28mself\u001b[39m, args):\n\u001b[0;32m    931\u001b[0m     \u001b[38;5;28;01mtry\u001b[39;00m:\n\u001b[1;32m--> 932\u001b[0m         \u001b[38;5;28;01mreturn\u001b[39;00m \u001b[38;5;28;43msuper\u001b[39;49m\u001b[43m(\u001b[49m\u001b[43m)\u001b[49m\u001b[38;5;241;43m.\u001b[39;49m\u001b[38;5;21;43m__getitem__\u001b[39;49m\u001b[43m(\u001b[49m\u001b[43margs\u001b[49m\u001b[43m)\u001b[49m\n\u001b[0;32m    933\u001b[0m     \u001b[38;5;28;01mexcept\u001b[39;00m \u001b[38;5;167;01mRuntimeError\u001b[39;00m:\n\u001b[0;32m    934\u001b[0m         tmp \u001b[38;5;241m=\u001b[39m args \u001b[38;5;28;01mif\u001b[39;00m args\u001b[38;5;241m.\u001b[39m\u001b[38;5;18m__class__\u001b[39m \u001b[38;5;129;01mis\u001b[39;00m \u001b[38;5;28mtuple\u001b[39m \u001b[38;5;28;01melse\u001b[39;00m (args,)\n",
      "File \u001b[1;32m~\\miniconda3\\lib\\site-packages\\pyomo\\core\\base\\indexed_component.py:535\u001b[0m, in \u001b[0;36mIndexedComponent.__getitem__\u001b[1;34m(self, index)\u001b[0m\n\u001b[0;32m    531\u001b[0m \u001b[38;5;124;03m\"\"\"\u001b[39;00m\n\u001b[0;32m    532\u001b[0m \u001b[38;5;124;03mThis method returns the data corresponding to the given index.\u001b[39;00m\n\u001b[0;32m    533\u001b[0m \u001b[38;5;124;03m\"\"\"\u001b[39;00m\n\u001b[0;32m    534\u001b[0m \u001b[38;5;28;01mif\u001b[39;00m \u001b[38;5;28mself\u001b[39m\u001b[38;5;241m.\u001b[39m_constructed \u001b[38;5;129;01mis\u001b[39;00m \u001b[38;5;28;01mFalse\u001b[39;00m:\n\u001b[1;32m--> 535\u001b[0m     \u001b[38;5;28;43mself\u001b[39;49m\u001b[38;5;241;43m.\u001b[39;49m\u001b[43m_not_constructed_error\u001b[49m\u001b[43m(\u001b[49m\u001b[43mindex\u001b[49m\u001b[43m)\u001b[49m\n\u001b[0;32m    537\u001b[0m \u001b[38;5;28;01mtry\u001b[39;00m:\n\u001b[0;32m    538\u001b[0m     obj \u001b[38;5;241m=\u001b[39m \u001b[38;5;28mself\u001b[39m\u001b[38;5;241m.\u001b[39m_data\u001b[38;5;241m.\u001b[39mget(index, _NotFound)\n",
      "File \u001b[1;32m~\\miniconda3\\lib\\site-packages\\pyomo\\core\\base\\indexed_component.py:740\u001b[0m, in \u001b[0;36mIndexedComponent._not_constructed_error\u001b[1;34m(self, idx)\u001b[0m\n\u001b[0;32m    738\u001b[0m \u001b[38;5;28;01melse\u001b[39;00m:\n\u001b[0;32m    739\u001b[0m     idx_str \u001b[38;5;241m=\u001b[39m \u001b[38;5;124m\"\u001b[39m\u001b[38;5;124m[\u001b[39m\u001b[38;5;124m\"\u001b[39m \u001b[38;5;241m+\u001b[39m \u001b[38;5;28mstr\u001b[39m(idx) \u001b[38;5;241m+\u001b[39m \u001b[38;5;124m\"\u001b[39m\u001b[38;5;124m]\u001b[39m\u001b[38;5;124m\"\u001b[39m\n\u001b[1;32m--> 740\u001b[0m \u001b[38;5;28;01mraise\u001b[39;00m \u001b[38;5;167;01mValueError\u001b[39;00m(\n\u001b[0;32m    741\u001b[0m     \u001b[38;5;124m\"\u001b[39m\u001b[38;5;124mError retrieving component \u001b[39m\u001b[38;5;132;01m%s\u001b[39;00m\u001b[38;5;132;01m%s\u001b[39;00m\u001b[38;5;124m: The component has \u001b[39m\u001b[38;5;124m\"\u001b[39m\n\u001b[0;32m    742\u001b[0m     \u001b[38;5;124m\"\u001b[39m\u001b[38;5;124mnot been constructed.\u001b[39m\u001b[38;5;124m\"\u001b[39m \u001b[38;5;241m%\u001b[39m (\u001b[38;5;28mself\u001b[39m\u001b[38;5;241m.\u001b[39mname, idx_str,))\n",
      "\u001b[1;31mValueError\u001b[0m: Error retrieving component D[1]: The component has not been constructed."
     ]
    }
   ],
   "source": [
    "from pyomo.core import *\n",
    "\n",
    "# Abstract MPC Model\n",
    "model = AbstractModel()\n",
    "\n",
    "# Parameters\n",
    "model.days = RangeSet(1, 5)          # length of the optimization horizon\n",
    "model.c = RangeSet(1, 4)             # state space model coefficients\n",
    "model.P = Param(model.days, within = NonNegativeReals)\n",
    "model.E = Param(model.days, within = NonNegativeReals)\n",
    "model.D0 = Param()\n",
    "model.targetRZSMD = Param()\n",
    "\n",
    "# Variables\n",
    "model.I = Var(model.days, within = NonNegativeReals)\n",
    "model.D = Var(model.days, within = NonNegativeReals)\n",
    "\n",
    "# State Space Model Constraints\n",
    "# model.ssc = ConstraintList()\n",
    "# for i in model.days:\n",
    "#     if i == 1:\n",
    "#         const = model.D[i] == (model.c[1] * model.D0 + model.c[2] * model.E[i] + \n",
    "#                                model.c[3] * model.P[i] + model.c[4] * model.I[i])\n",
    "#         model.ssc.add(const)\n",
    "#     else:\n",
    "#         const = model.D[i] == (model.c[1] * model.D[i - 1] + model.c[2] * model.E[i] + \n",
    "#                                model.c[3] * model.P[i] + model.c[4] * model.I[i])\n",
    "#         model.ssc.add(const)\n",
    "        \n",
    "def stateSpaceConstraints(model, i):\n",
    "    return model.D[i] == (model.c[1] * model.D[i - 1] + model.c[2] * model.E[i] + \n",
    "                               model.c[3] * model.P[i] + model.c[4] * model.I[i])\n",
    "        \n",
    "model.ssc = Constraint(RangeSet(2, 5), rule = stateSpaceConstraints)\n",
    "model.ssc.pprint()\n",
    "\n",
    "# Min-Max RZSMD\n",
    "model.Dcons = ConstraintList()\n",
    "for i in model.days:\n",
    "    model.Dcons.add(model.D[i] <= model.targetRZSMD)\n",
    "        \n",
    "# Min-Max Irrigation Amount\n",
    "\n",
    "\n",
    "    \n",
    "def constraint_rule(model):\n",
    "    return model.x + model.y >= 10\n",
    "model.constraint = Constraint(rule=constraint_rule)\n",
    "\n",
    "def objective(model):\n",
    "    Dsqrd = sum(model.D[i] ** 2 for i in model.days)\n",
    "    Isqrd = sum(model.I[i] ** 2 for i in model.days)\n",
    "    \n",
    "    return Dsqrd + Isqrd\n",
    "model.objective = Objective(rule = objective, sense = minimize)\n",
    "model.ssc"
   ]
  },
  {
   "cell_type": "code",
   "execution_count": 70,
   "id": "05b5d734",
   "metadata": {},
   "outputs": [
    {
     "data": {
      "text/plain": [
       "{-0.1483140685132934,\n",
       " -0.0734739843179322,\n",
       " 0.2968418037253758,\n",
       " 0.5754474051124194}"
      ]
     },
     "execution_count": 70,
     "metadata": {},
     "output_type": "execute_result"
    }
   ],
   "source": [
    "set(c.flatten())"
   ]
  },
  {
   "cell_type": "code",
   "execution_count": 77,
   "id": "b7ae1be2",
   "metadata": {},
   "outputs": [
    {
     "name": "stdout",
     "output_type": "stream",
     "text": [
      "c : Dimen=1, Size=5, Bounds=(0, 4)\n",
      "    Key  : Finite : Members\n",
      "    None :   True :   [0:4]\n"
     ]
    }
   ],
   "source": [
    "model.c.pprint()"
   ]
  },
  {
   "cell_type": "code",
   "execution_count": 68,
   "id": "ec3e8738",
   "metadata": {},
   "outputs": [],
   "source": [
    "class irrigationMPC:\n",
    "    \n",
    "    def __innit__(self):\n",
    "        self.horizon = None\n",
    "        self.coeffs = None\n",
    "        \n",
    "    def _buildAquaCrop(self, soil_type: str, crop_type: str, planting_date: str, harvest_date: str, \n",
    "                     initWC: str, weather_df: pd.DataFrame, sim_start: str, sim_end: str):\n",
    "        \n",
    "        # Define model parameters\n",
    "        soil = Soil(soil_type)\n",
    "        crop = Crop(crop_type, planting_date, harvest_date)\n",
    "        init_water = InitialWaterContent(value = [initWC])\n",
    "        weather_df = weather_df\n",
    "        sim_start_time = sim_start\n",
    "        sim_end_time = sim_end\n",
    "\n",
    "        # Define Irrigation Management method:\n",
    "        # We irrigate whenever our MPC decides to do so\n",
    "        # Hence we choose method \"5\" where we decide on the irrigation depth every day\n",
    "        irrMng = IrrigationManagement(irrigation_method = 5, )\n",
    "\n",
    "        # Build a field model\n",
    "        model = AquaCropModel(sim_start_time = sim_start_time,\n",
    "                              sim_end_time = sim_end_time,\n",
    "                              weather_df = weather_df,\n",
    "                              soil = soil,\n",
    "                              crop = crop,\n",
    "                              initial_water_content = init_water, \n",
    "                              irrigation_management = irrMng)\n",
    "        self.model = model\n",
    "        \n",
    "    def runAquaCrop(self, n_steps: int):\n",
    "        self.model._initialize()\n",
    "        \n",
    "    def _getDepth(self):\n",
    "        self._solveMPC()\n",
    "        depth = self.MPC.I[1].value\n",
    "        \n",
    "        return depth\n",
    "        \n",
    "    def _buildMPC(self, p_forecast, e_forecast, D0, coeffs, targetRZSMD, maxIrri):\n",
    "        # Concrete MPC Model\n",
    "        model = ConcreteModel()\n",
    "\n",
    "        # Parameters\n",
    "        model.days = RangeSet(0, len(e_forecast) - 1)                                       # length of the optimization horizon\n",
    "        model.C = RangeSet(0, 3)\n",
    "        model.c = Param(model.C, initialize = coeffs)                                       # state space model coefficients\n",
    "        model.P = Param(model.days, within = NonNegativeReals, initialize = p_forecast)     # evapotranspiration forecast\n",
    "        model.E = Param(model.days, within = NonNegativeReals, initialize = e_forecast)     # precipitation forecast\n",
    "        model.D0 = Param({0}, within = NonNegativeReals, initialize = D0)                   # initial RZSMD\n",
    "        model.targetRZSMD = Param({0}, within = NonNegativeReals, initialize = targetRZSMD) # target RZSMD\n",
    "\n",
    "        # Variables\n",
    "        model.I = Var(model.days, within = NonNegativeReals, bounds = (0, maxIrri))\n",
    "        model.D = Var(model.days, within = Reals, bounds = (-50, 50))\n",
    "\n",
    "        # State Space Model Constraints\n",
    "        model.ssc = ConstraintList()\n",
    "        for i in model.days:\n",
    "            if i == 0:\n",
    "                const = model.D[i] == (model.c[0] * model.D0 + model.c[1] * model.E[i] + \n",
    "                                       model.c[2] * model.P[i] + model.c[3] * model.I[i])\n",
    "                model.ssc.add(const)\n",
    "            else:\n",
    "                const = model.D[i] == (model.c[0] * model.D[i - 1] + model.c[1] * model.E[i] + \n",
    "                                       model.c[2] * model.P[i] + model.c[3] * model.I[i])\n",
    "                model.ssc.add(const)\n",
    "                \n",
    "#         # Min-Max RZSMD Constraints\n",
    "#         model.Dcons = ConstraintList()\n",
    "#         for i in model.days:\n",
    "#             model.Dcons.add(model.D[i] <= 50)  # RZSMD shouldn't be at over-saturation\n",
    "#             model.Dcons.add(model.D[i] >= -50) # RZSMD should be above wilting point (WP)\n",
    "            \n",
    "#         # Min-Max Irrigation Constraints\n",
    "#         model.Icons = ConstraintList()\n",
    "#         for i in model.days:\n",
    "#             model.Icons.add(model.I[i] <= maxIrri) # irrigation has to be less than available amount of water\n",
    "#             model.Icons.add(model.I[i] >= 0)  # irrigation cannot be negative\n",
    "\n",
    "        # Objective\n",
    "        def objective(model):\n",
    "            Dsqrd = sum(model.D[i] ** 2 for i in model.days)\n",
    "            Isqrd = sum(model.I[i] ** 2 for i in model.days)\n",
    "\n",
    "            return Dsqrd + Isqrd\n",
    "        \n",
    "        model.objective = Objective(rule = objective, sense = minimize)\n",
    "            \n",
    "        self.MPC = model\n",
    "        \n",
    "    def _solveMPC(self):\n",
    "        solver = po.SolverFactory('gurobi')\n",
    "        self.result = solver.solve(self.MPC, tee = True)"
   ]
  },
  {
   "cell_type": "code",
   "execution_count": 73,
   "id": "6fcd0119",
   "metadata": {},
   "outputs": [],
   "source": [
    "p_forecast = [0, 0, 0, 0, 0]\n",
    "e_forecast = [5.2, 5.2, 5.3, 5.4, 5.3]\n",
    "D0 = 2\n",
    "c = c\n",
    "targetRZSMD = 5\n",
    "maxIrri = 3"
   ]
  },
  {
   "cell_type": "code",
   "execution_count": 74,
   "id": "3893b031",
   "metadata": {},
   "outputs": [
    {
     "name": "stdout",
     "output_type": "stream",
     "text": [
      "Set parameter Username\n",
      "Academic license - for non-commercial use only - expires 2023-05-10\n",
      "Read LP format model from file C:\\Users\\misko\\AppData\\Local\\Temp\\tmp84nd3xko.pyomo.lp\n",
      "Reading time = 0.02 seconds\n",
      "x11: 6 rows, 11 columns, 15 nonzeros\n",
      "Gurobi Optimizer version 9.5.1 build v9.5.1rc2 (win64)\n",
      "Thread count: 4 physical cores, 8 logical processors, using up to 8 threads\n",
      "Optimize a model with 6 rows, 11 columns and 15 nonzeros\n",
      "Model fingerprint: 0x7b535e51\n",
      "Model has 10 quadratic objective terms\n",
      "Coefficient statistics:\n",
      "  Matrix range     [3e-01, 1e+00]\n",
      "  Objective range  [0e+00, 0e+00]\n",
      "  QObjective range [2e+00, 2e+00]\n",
      "  Bounds range     [3e+00, 5e+01]\n",
      "  RHS range        [4e-01, 1e+00]\n",
      "Presolve removed 1 rows and 1 columns\n",
      "Presolve time: 0.00s\n",
      "Presolved: 5 rows, 10 columns, 14 nonzeros\n",
      "Presolved model has 10 quadratic objective terms\n",
      "Ordering time: 0.00s\n",
      "\n",
      "Barrier statistics:\n",
      " AA' NZ     : 4.000e+00\n",
      " Factor NZ  : 1.500e+01\n",
      " Factor Ops : 5.500e+01 (less than 1 second per iteration)\n",
      " Threads    : 1\n",
      "\n",
      "                  Objective                Residual\n",
      "Iter       Primal          Dual         Primal    Dual     Compl     Time\n",
      "   0   2.46085943e+06 -3.05591060e+06  9.91e+02 3.76e+02  7.99e+05     0s\n",
      "   1   7.26511559e+03 -5.23404791e+05  6.07e+01 1.16e+01  4.81e+04     0s\n",
      "   2   3.72447244e+01 -5.76574528e+04  2.17e-05 1.16e-05  2.88e+03     0s\n",
      "   3   3.71077680e+01 -2.99643892e+02  1.05e-07 5.62e-08  1.68e+01     0s\n",
      "   4   7.88565528e+00 -8.93001933e+01  1.14e-13 5.73e-14  4.86e+00     0s\n",
      "   5   2.67620831e+00 -1.94706997e+00  7.11e-15 7.11e-15  2.31e-01     0s\n",
      "   6   1.53547052e+00  1.02490348e+00  1.42e-14 7.11e-15  2.55e-02     0s\n",
      "   7   1.43440351e+00  1.38646081e+00  7.11e-15 7.11e-15  2.40e-03     0s\n",
      "   8   1.43057508e+00  1.42911813e+00  1.42e-14 7.11e-15  7.28e-05     0s\n",
      "   9   1.43054678e+00  1.43054177e+00  7.11e-15 7.11e-15  2.50e-07     0s\n",
      "  10   1.43054677e+00  1.43054676e+00  7.11e-15 7.11e-15  2.50e-10     0s\n",
      "\n",
      "Barrier solved model in 10 iterations and 0.00 seconds (0.00 work units)\n",
      "Optimal objective 1.43054677e+00\n",
      "\n"
     ]
    }
   ],
   "source": [
    "tomatoMPC = irrigationMPC()\n",
    "tomatoMPC._buildAquaCrop(\"Loam\", \"Tomato\", 8, 23, \"FC\", weather, \"2010/08/01\", \"2010/11/18\")\n",
    "tomatoMPC._buildMPC(p_forecast, e_forecast, D0, c, targetRZSMD, maxIrri)\n",
    "tomatoMPC._solveMPC()"
   ]
  },
  {
   "cell_type": "code",
   "execution_count": 77,
   "id": "a8080be5",
   "metadata": {},
   "outputs": [
    {
     "name": "stdout",
     "output_type": "stream",
     "text": [
      "I : Size=5, Index=days\n",
      "    Key : Lower : Value                  : Upper : Fixed : Stale : Domain\n",
      "      0 :     0 : 1.9743416128176116e-11 :     3 : False : False : NonNegativeReals\n",
      "      1 :     0 :     0.1012430282963158 :     3 : False : False : NonNegativeReals\n",
      "      2 :     0 :       0.22257532238379 :     3 : False : False : NonNegativeReals\n",
      "      3 :     0 :    0.24682927960975148 :     3 : False : False : NonNegativeReals\n",
      "      4 :     0 :    0.18152559325265885 :     3 : False : False : NonNegativeReals\n"
     ]
    }
   ],
   "source": [
    "tomatoMPC.MPC.I.display()"
   ]
  }
 ],
 "metadata": {
  "kernelspec": {
   "display_name": "Python 3 (ipykernel)",
   "language": "python",
   "name": "python3"
  },
  "language_info": {
   "codemirror_mode": {
    "name": "ipython",
    "version": 3
   },
   "file_extension": ".py",
   "mimetype": "text/x-python",
   "name": "python",
   "nbconvert_exporter": "python",
   "pygments_lexer": "ipython3",
   "version": "3.9.0"
  }
 },
 "nbformat": 4,
 "nbformat_minor": 5
}
